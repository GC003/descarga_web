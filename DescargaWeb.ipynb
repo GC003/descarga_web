{
 "cells": [
  {
   "cell_type": "markdown",
   "id": "723b8fcf-cc83-4e4e-b622-e79b44a77b89",
   "metadata": {},
   "source": [
    "# Descarga Web\n",
    "\n",
    "Un ejemplo básico de un script que descarga una página web utilizando la biblioteca requests y guarda el contenido en un archivo."
   ]
  },
  {
   "cell_type": "code",
   "execution_count": 3,
   "id": "920ddc9e-420a-4f28-9864-ad57d72bdcd1",
   "metadata": {},
   "outputs": [
    {
     "name": "stdout",
     "output_type": "stream",
     "text": [
      "La página se ha descargado exitosamente como github_page.html.\n"
     ]
    }
   ],
   "source": [
    "import requests\n",
    "\n",
    "def descargar_pagina(url, nombre):\n",
    "    try:\n",
    "        # Realiza la solicitud GET a la URL\n",
    "        respuesta = requests.get(url)\n",
    "        \n",
    "        # Verifica si la solicitud fue exitosa (código de estado 200)\n",
    "        if respuesta.status_code == 200:\n",
    "            # Guarda el contenido en el archivo especificado\n",
    "            with open(nombre, 'w', encoding='utf-8') as archivo:\n",
    "                archivo.write(respuesta.text)\n",
    "            print(f\"La página se ha descargado exitosamente como {nombre}.\")\n",
    "        else:\n",
    "            print(f\"Error al descargar la página. Código de estado: {respuesta.status_code}\")\n",
    "    except Exception as e:\n",
    "        print(f\"Ocurrió un error: {e}\")\n",
    "\n",
    "if __name__ == \"__main__\":\n",
    "    # Ejemplo de uso: Descargar la página de GitHub\n",
    "    url_ejemplo = \"https://github.com\"\n",
    "    archivo = \"github_page.html\"\n",
    "    descargar_pagina(url_ejemplo, archivo)\n"
   ]
  }
 ],
 "metadata": {
  "kernelspec": {
   "display_name": "Python 3 (ipykernel)",
   "language": "python",
   "name": "python3"
  },
  "language_info": {
   "codemirror_mode": {
    "name": "ipython",
    "version": 3
   },
   "file_extension": ".py",
   "mimetype": "text/x-python",
   "name": "python",
   "nbconvert_exporter": "python",
   "pygments_lexer": "ipython3",
   "version": "3.11.7"
  }
 },
 "nbformat": 4,
 "nbformat_minor": 5
}
